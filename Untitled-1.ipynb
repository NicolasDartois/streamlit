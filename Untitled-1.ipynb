{
 "cells": [
  {
   "cell_type": "code",
   "execution_count": 1,
   "metadata": {},
   "outputs": [
    {
     "name": "stderr",
     "output_type": "stream",
     "text": [
      "C:\\Users\\Nicolas\\AppData\\Local\\Temp\\ipykernel_16348\\872102417.py:17: SettingWithCopyWarning: \n",
      "A value is trying to be set on a copy of a slice from a DataFrame.\n",
      "Try using .loc[row_indexer,col_indexer] = value instead\n",
      "\n",
      "See the caveats in the documentation: https://pandas.pydata.org/pandas-docs/stable/user_guide/indexing.html#returning-a-view-versus-a-copy\n",
      "  X_cat[col] = X_cat[col].fillna(X_cat[col].mode()[0])\n",
      "C:\\Users\\Nicolas\\AppData\\Local\\Temp\\ipykernel_16348\\872102417.py:19: SettingWithCopyWarning: \n",
      "A value is trying to be set on a copy of a slice from a DataFrame.\n",
      "Try using .loc[row_indexer,col_indexer] = value instead\n",
      "\n",
      "See the caveats in the documentation: https://pandas.pydata.org/pandas-docs/stable/user_guide/indexing.html#returning-a-view-versus-a-copy\n",
      "  X_num[col] = X_num[col].fillna(X_num[col].median())\n"
     ]
    },
    {
     "data": {
      "text/plain": [
       "['clf_lr']"
      ]
     },
     "execution_count": 1,
     "metadata": {},
     "output_type": "execute_result"
    }
   ],
   "source": [
    "import pandas as pd\n",
    "import joblib\n",
    "from sklearn.model_selection import train_test_split\n",
    "from sklearn.preprocessing import StandardScaler\n",
    "from sklearn.ensemble import RandomForestClassifier\n",
    "from sklearn.svm import SVC\n",
    "from sklearn.linear_model import LogisticRegression\n",
    "\n",
    "df=pd.read_csv(\"train.csv\")\n",
    "\n",
    "df = df.drop(['PassengerId', 'Name', 'Ticket', 'Cabin'], axis=1)\n",
    "y = df['Survived']\n",
    "X_cat = df[['Pclass', 'Sex',  'Embarked']]\n",
    "X_num = df[['Age', 'Fare', 'SibSp', 'Parch']]\n",
    "\n",
    "for col in X_cat.columns:\n",
    "    X_cat[col] = X_cat[col].fillna(X_cat[col].mode()[0])\n",
    "for col in X_num.columns:\n",
    "    X_num[col] = X_num[col].fillna(X_num[col].median())\n",
    "\n",
    "X_cat_scaled = pd.get_dummies(X_cat, columns=list(X_cat.columns))\n",
    "X = pd.concat([X_cat_scaled, X_num], axis = 1)   \n",
    "\n",
    "X_train, X_test, y_train, y_test = train_test_split(X, y, test_size=0.2, random_state=123)\n",
    "\n",
    "scaler = StandardScaler()\n",
    "X_train[X_num.columns] = scaler.fit_transform(X_train[X_num.columns])\n",
    "X_test[X_num.columns] = scaler.transform(X_test[X_num.columns])\n",
    "\n",
    "clf_rfc = RandomForestClassifier()\n",
    "clf_rfc.fit(X_train, y_train)\n",
    "joblib.dump(clf_rfc, \"clf_rfc\")\n",
    "\n",
    "clf_svc = SVC()\n",
    "clf_svc.fit(X_train, y_train)\n",
    "joblib.dump(clf_svc, \"clf_svc\")\n",
    "\n",
    "clf_lr = LogisticRegression()\n",
    "clf_lr.fit(X_train, y_train)\n",
    "joblib.dump(clf_lr, \"clf_lr\")\n",
    "\n",
    "\n"
   ]
  }
 ],
 "metadata": {
  "kernelspec": {
   "display_name": "base",
   "language": "python",
   "name": "python3"
  },
  "language_info": {
   "codemirror_mode": {
    "name": "ipython",
    "version": 3
   },
   "file_extension": ".py",
   "mimetype": "text/x-python",
   "name": "python",
   "nbconvert_exporter": "python",
   "pygments_lexer": "ipython3",
   "version": "3.11.5"
  }
 },
 "nbformat": 4,
 "nbformat_minor": 2
}
